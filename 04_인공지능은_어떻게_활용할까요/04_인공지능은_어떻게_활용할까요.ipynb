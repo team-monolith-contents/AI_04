{
 "cells": [
  {
   "cell_type": "markdown",
   "id": "11880e49-2d9a-4ce2-bf40-ba1985406997",
   "metadata": {
    "deletable": false,
    "editable": false,
    "tags": []
   },
   "source": [
    "<div style=\"padding: 15px; border: 5px solid transparent; border-color: transparent; margin-bottom: 20px; border-radius: 4px; color: #3c763d; background-color: #dff0d8; border-color: #d6e9c6; font-weight: bold;\">\n",
    "    <br><br>\n",
    "    <div style=\"font-weight: bold; font-size: 40px\">인공지능 기초과정</div>\n",
    "    <div style=\"font-weight: bold; font-size: 20px\">[04] 인공지능은 어떻게 활용할까요?</div>\n",
    "    <hr style=\"width:80%;text-align:left;margin-left:0;border:0.5px solid green\">\n",
    "    <br>\n",
    "    &#x2022; 인공지능(기계학습)을 활용 목적에 따라 분류할 수 있다.<br>\n",
    "    &#x2022; 인공지능 활용 방법의 순서를 이해할 수 있다.<br>\n",
    "</div>"
   ]
  },
  {
   "cell_type": "markdown",
   "id": "45f83f4b-3f6c-4a39-9543-32220ec5ee00",
   "metadata": {
    "deletable": false,
    "editable": false,
    "tags": []
   },
   "source": [
    "<div style=\"padding: 15px; border: 5px solid transparent; border-color: transparent; margin-bottom: 20px; border-radius: 4px; color: #3c763d; border-color: #d6e9c6; font-weight: bold;\">\n",
    "<h2 style='font-weight: bold'>1. 인공지능에는 어떤 종류가 있을까요?</h2>\n",
    "</div>"
   ]
  },
  {
   "cell_type": "markdown",
   "id": "ac6a52d8-5486-4d55-b2ef-e312a7140be7",
   "metadata": {
    "deletable": false,
    "editable": false,
    "tags": []
   },
   "source": [
    "인공지능은 사람의 행동을 모방하는 컴퓨터 시스템을 말합니다.<br>\n",
    "인공지능에도 다양한 종류가 있습니다.<br>\n",
    "인공지능의 목적에 따라 분류해봅시다.<br>\n",
    "\n",
    "1. **탐색**<br>\n",
    "문제 해결을 위한 가장 효율적인 방법을 찾는 것입니다.<br>\n",
    "경험을 이용한 휴리스틱 탐색 방법이나, DFS, BFS 등의 알고리즘이 여기에 해당합니다.<br>\n",
    "실시간 경로 찾기, 미로찾기, 오목 게임등 이미 우리의 일상생활에서 쉽게 발견할 수 있습니다.<br>\n",
    "\n",
    "2. **추론**<br>\n",
    "사람의 논리적 추론 과정을 컴퓨터로 시뮬레이션하는 것을 말합니다.<br>\n",
    "데이터를 기반으로 질문에 답하고, 새로운 결론에 도출하는 전문가 시스템이 이 분야에 해당합니다.<br>\n",
    "\n",
    "3. **학습**<br>\n",
    "데이터로부터 일정한 패턴을 찾아내 분류, 군집, 연관, 예측하는 모델을 만드는 것을 말합니다.<br>\n",
    "딥러닝을 포함하여 최근의 인공지능 기술은 대부분 학습 분야에 해당합니다.\n",
    "\n",
    "4. **인식**<br>\n",
    "사람의 오감으로 감지되는 신호로 사물을 판단하고, 정보와 의미를 인식하는 분야입니다.<br>\n",
    "최근에는 기계 학습 기법 중 하나인 딥러닝 기술을 활용하여 시각정보와 소리정보를 꽤 정확하게 이해할 수 있습니다.<br>\n",
    "\n",
    "최근 인공지능 분야에서 가장 핵심은 데이터 기반의 기계 학습(machine learning)입니다.<br> \n",
    "기계학습은 데이터를 통해 패턴을 학습하고 그 패턴을 기반으로 결정을 내리거나 예측하는 알고리즘과 방법을 연구하는 분야입니다.<br>\n",
    "이번 수업 과정에서도 대부분 기계학습 알고리즘에 대해 배울 것입니다.(6장 ~ 13장)<br>\n",
    "그럼 기계 학습 알고리즘의 종류에 대해 알아볼까요?<br>\n",
    "\n",
    "기계 학습은 학습 과정에 따라 지도 학습, 비지도 학습, 강화 학습으로 나눌 수 있습니다.<br>\n",
    "\n",
    "1. **지도 학습**<br>\n",
    "지도 학습은 이미 정답이 정해져 있는 데이터로 학습하여 정답을 맞추는 방향으로 학습하는 방식입니다.\n",
    "ex) 사진을 보고 개, 고양이를 분류하는 인공지능\n",
    "\n",
    "2. **비지도 학습**<br>\n",
    "비지도 학습은 정답이 없는 데이터들의 특성을 분석하여 군집화하는 학습 방법입니다.\n",
    "ex) 맞춤 마케팅 전략을 짤 수 있도록 고객들을 비슷한 그룹으로 나누어 주는 인공지능\n",
    "\n",
    "3. **강화학습**<br>\n",
    "강화 학습은 특정 행동에 대한 적절한 보상을 주어 정답을 도출하도록 하는 학습 방법입니다.\n",
    "ex) 바둑 인공지능 알파고"
   ]
  },
  {
   "cell_type": "markdown",
   "id": "ae74c8c0-5ee2-45ce-9fa8-83ce7fef8806",
   "metadata": {
    "deletable": false,
    "editable": false,
    "tags": []
   },
   "source": [
    "<div style=\"padding: 15px; border: 5px solid transparent; border-color: transparent; margin-bottom: 20px; border-radius: 4px; color: #8a6d3b;  border-color: #faebcc; font-weight: bold;\">\n",
    "    <div style=\"font-weight: bold; font-size: 20px\">✏️ [문제1]</div>\n",
    "    <br>\n",
    "    아래의 인공지능(기계학습) 예시들은 각각 어떤 방법으로 학습시킨 것일까요? 여러분의 생각을 공유해봅시다.<br>\n",
    "    정답이 정해져 있는 것은 아니니 선택한 방법이라고 생각하는 이유도 함께 생각해봅시다.<br>\n",
    "    아래의 예시에 존재하지 않는 인공지능을 선택해서 설명해도 됩니다.<br>\n",
    "    <br>\n",
    "    - 챗봇<br>\n",
    "    - 자율 주행 자동차<br>\n",
    "    - 추천 서비스<br>\n",
    "</div>"
   ]
  },
  {
   "cell_type": "raw",
   "id": "77e37309-7cce-40c8-85e0-44658e866c60",
   "metadata": {},
   "source": [
    " 👉\n",
    " 👉 "
   ]
  },
  {
   "cell_type": "markdown",
   "id": "0cca75fd-a7d7-4c1f-841b-4f530198a126",
   "metadata": {
    "deletable": false,
    "editable": false,
    "tags": []
   },
   "source": [
    "<div style=\"padding: 15px; border: 5px solid transparent; border-color: transparent; margin-bottom: 20px; border-radius: 4px; color: #3c763d; border-color: #d6e9c6; font-weight: bold;\">\n",
    "<h2 style='font-weight: bold'>2. 인공지능 활용 방법의 순서를 알아봅시다.</h2>\n",
    "</div>"
   ]
  },
  {
   "cell_type": "markdown",
   "id": "3f82a00a-751f-48a4-828a-ae8e65d051f0",
   "metadata": {
    "deletable": false,
    "editable": false
   },
   "source": [
    "### **인공지능 프로젝트 사이클 따라가보기**\n",
    "\n",
    "인공지능을 활용하기 위해서는 목표, 데이터, 인공지능 모델을 잘 설정하는 것이 중요해요.  \n",
    "아래 표와 같은 순서에 따라 프로젝트가 진행되지만, <br>\n",
    "**사이클**이라고 표현한 것처럼 중간에 문제가 발생하면 언제든 다른 순서로 돌아가서 반복해야 합니다. \n",
    "\n",
    "<table>\n",
    "    <tr>\n",
    "        <td><img src=\"https://tmn-bucket-materials-all.s3.ap-northeast-2.amazonaws.com/image/ai/AI-04-01.png\" width=\"420\">\n",
    "        </td>\n",
    "    </tr>\n",
    "    <tr>\n",
    "        <th>인공지능 프로젝트 사이클</th>\n",
    "    </tr>\n",
    "</table>"
   ]
  },
  {
   "cell_type": "markdown",
   "id": "b86cee3c-4269-42e5-bd60-ca22e5607775",
   "metadata": {
    "deletable": false,
    "editable": false
   },
   "source": [
    "자율주행 자동차 개발을 위한 인공지능 프로젝트 사이클을 만들어 봅시다. \n",
    "\n",
    "* **문제 정의) 해결하고자 하는 목표를 설정**  \n",
    "    교차로에서 신호등의 신호를 파악해야 한다. \n",
    "    \n",
    "* **데이터 수집 및 전처리) 인공지능 모델 훈련에 필요한 데이터를 수집 및 가공**   \n",
    "    자동차 전방의 카메라에서 얻은 사진들을 수집하고, 신호등의 종류를 라벨링한다.  \n",
    "\n",
    "* **데이터 탐색) 데이터의 특성을 파악하고 문제를 제거**  \n",
    "    라벨링 된 신호등의 종류 분포를 파악한다.  \n",
    "    만약, 어느 한 종류의 데이터 수가 적으면 앞의 단계로 돌아가 더 수집한다.  \n",
    "    \n",
    "* **인공지능 모델 학습) 적합한 모델을 선정하여 모델을 만들고 학습**  \n",
    "    사진 속에서 신호등의 위치를 찾고 종류를 분류할 수 있는 인공지능 모델을 선정하여 학습한다.  \n",
    "    \n",
    "* **모델 평가) 학습된 모델이 사람들이 활용할 수 있을만큼 잘 동작하는지 평가**  \n",
    "    학습된 모델 중 가장 최상의 것이 일상 생활에서 사용될 만큼 정확한지 평가한다.  \n",
    "    만약 부정확하다면, 데이터를 수정 혹은 추가하거나 모델을 수정하여 다시 학습한다. "
   ]
  },
  {
   "cell_type": "markdown",
   "id": "bf41380d-9a9e-4c3c-bc07-b25967e35b57",
   "metadata": {
    "deletable": false,
    "editable": false,
    "tags": []
   },
   "source": [
    "<div style=\"padding: 15px; border: 5px solid transparent; border-color: transparent; margin-bottom: 20px; border-radius: 4px; color: #8a6d3b;  border-color: #faebcc; font-weight: bold;\">\n",
    "    <div style=\"font-weight: bold; font-size: 20px\">✏️ [문제2]</div>\n",
    "    <br>\n",
    "인공지능을 이용해서 해결할 수 있는 문제에는 어떤 것들이 있을까요?\n",
    "</div>"
   ]
  },
  {
   "cell_type": "raw",
   "id": "7b01363f-717d-482f-9ef3-a9705f4e88af",
   "metadata": {},
   "source": [
    " 👉\n",
    " 👉 "
   ]
  },
  {
   "cell_type": "markdown",
   "id": "9c32dc0a-f6eb-48da-b428-733fd795cf95",
   "metadata": {
    "deletable": false,
    "editable": false,
    "tags": []
   },
   "source": [
    "<div style=\"padding: 15px; border: 5px solid transparent; border-color: transparent; margin-bottom: 20px; border-radius: 4px; color: #3c763d; border-color: #d6e9c6; font-weight: bold;\">\n",
    "<h2 style='font-weight: bold'>3. 인공지능 프로젝트를 체험해봅시다.</h2>\n",
    "</div>"
   ]
  },
  {
   "cell_type": "markdown",
   "id": "44c69db4-b005-4354-93ee-064f4564939c",
   "metadata": {
    "deletable": false,
    "editable": false,
    "tags": []
   },
   "source": [
    "### **[Step1] 문제 정의**\n",
    "\n",
    "기온에 따른 아이스크림 검색량을 예측하는 인공지능을 만들어봅시다.<br>\n",
    "네이버 쇼핑에서 아이스크림 검색량이 더 많이 검색된다는 것은 아이스크림이 더 많이 팔린다는 것을 의미합니다.<br>\n",
    "이 인공지능을 통해 아이스크림 생산 공장들은 생산량을 조절하고, 가게들은 아이스크림 재고량을 조절할 수 있을 것입니다."
   ]
  },
  {
   "cell_type": "markdown",
   "id": "f564e009-a087-4d10-aa1a-79c5eb0c8ba7",
   "metadata": {
    "deletable": false,
    "editable": false,
    "tags": []
   },
   "source": [
    "### **[Step2] 데이터 수집 및 전처리**\n",
    "\n",
    "네이버 데이터랩에서 아이스크림의 검색량을, 기상자료개방포털에서 기온데이터를 얻을 수 있습니다.<br>\n",
    "<a href=\"https://datalab.naver.com/shoppingInsight/sCategory.naver\"><button style=\"width:200px; height:50px\">네이버 데이터랩 링크 </button></a>\n",
    "<a href=\"https://data.kma.go.kr/data/grnd/selectAsosRltmList.do?pgmNo=36\"><button style=\"width:200px; height:50px\">기상자료개방포털 링크 </button></a>\n",
    "\n",
    "<table>\n",
    "    <tr>\n",
    "        <td><img src=\"https://tmn-bucket-materials-all.s3.ap-northeast-2.amazonaws.com/image/ai/AI-04-02.PNG\" width=\"500\"></td>\n",
    "        <td><img src=\"https://tmn-bucket-materials-all.s3.ap-northeast-2.amazonaws.com/image/ai/AI-04-03.PNG\" width=\"500\"></td>\n",
    "    </tr>\n",
    "    <tr>\n",
    "        <th>네이버 데이터랩</th>\n",
    "        <th>기상자료개방포털</th>\n",
    "    </tr>\n",
    "</table>"
   ]
  },
  {
   "cell_type": "code",
   "execution_count": null,
   "id": "5548e8f3-7818-4be9-83e8-f57a658e47e9",
   "metadata": {
    "error_code": "import pandas as pd\n\nicecream = pd.read_csv('https://tmn-bucket-materials-all.s3.ap-northeast-2.amazonaws.com/data/icecream.csv')\ntemperature = pd.read_csv('https://tmn-bucket-materials-all.s3.ap-northeast-2.amazonaws.com/data/temperature.csv')\n\nprint(icecream)\nprint(temperature)",
    "tags": []
   },
   "outputs": [],
   "source": [
    "# 아이스크림 데이터 읽어오기\n",
    "import pandas as pd\n",
    "\n",
    "icecream = pd.read_csv('https://tmn-bucket-materials-all.s3.ap-northeast-2.amazonaws.com/data/icecream.csv')\n",
    "icecream"
   ]
  },
  {
   "cell_type": "code",
   "execution_count": null,
   "id": "a26cf435-be22-4a0b-bf6e-a21b4b82a62d",
   "metadata": {
    "error_code": "import pandas as pd\n\nicecream = pd.read_csv('https://tmn-bucket-materials-all.s3.ap-northeast-2.amazonaws.com/data/icecream.csv')\ntemperature = pd.read_csv('https://tmn-bucket-materials-all.s3.ap-northeast-2.amazonaws.com/data/temperature.csv')\n\nprint(icecream)\nprint(temperature)",
    "tags": []
   },
   "outputs": [],
   "source": [
    "# 기온 데이터 읽어오기\n",
    "\n",
    "temperature = pd.read_csv('https://tmn-bucket-materials-all.s3.ap-northeast-2.amazonaws.com/data/temperature.csv')\n",
    "temperature"
   ]
  },
  {
   "cell_type": "markdown",
   "id": "9ac5ec8e-c9f6-4d83-91ad-8e3385d27529",
   "metadata": {
    "deletable": false,
    "editable": false,
    "tags": []
   },
   "source": [
    "읽어온 데이터들을 일자를 기준으로 합쳐줍니다.(데이터 전처리)"
   ]
  },
  {
   "cell_type": "code",
   "execution_count": null,
   "id": "f10bc7a3-b66d-4a19-90a4-b591fa0722a5",
   "metadata": {
    "tags": []
   },
   "outputs": [],
   "source": [
    "print(temperature.info())\n",
    "print(icecream.info())"
   ]
  },
  {
   "cell_type": "code",
   "execution_count": null,
   "id": "66b8ce6f-8760-454d-9cd3-6d7726077ae5",
   "metadata": {
    "error_code": "# 기온 데이터와 아이스크림 데이터를 하나로 합치기\n\ndata = temperature.iloc[:,2:4]\ndata.columns = [\"날짜\", \"평균기온\"]\ndata = data.join(icecream, on=\"날짜\")",
    "tags": []
   },
   "outputs": [],
   "source": [
    "# 기온 데이터와 아이스크림 데이터를 하나로 합치기\n",
    "\n",
    "data = temperature.iloc[:,2:4]\n",
    "data.columns = [\"날짜\", \"평균기온\"]\n",
    "data = data.merge(icecream, on=\"날짜\")\n",
    "data"
   ]
  },
  {
   "cell_type": "markdown",
   "id": "5e2151cb-42e2-4390-8575-41ff055b3d74",
   "metadata": {
    "deletable": false,
    "editable": false,
    "tags": []
   },
   "source": [
    "만들어진 데이터를 파악합니다.<br>\n",
    "데이터셋에는 총 365개의 데이터가 존재하고 있습니다."
   ]
  },
  {
   "cell_type": "code",
   "execution_count": null,
   "id": "a3bf2b30-95d7-4a08-8fed-1bfd83d4bcf8",
   "metadata": {
    "error_code": "df.info()"
   },
   "outputs": [],
   "source": [
    "# 데이터셋의 형태를 파악합니다.\n",
    "data.info()"
   ]
  },
  {
   "cell_type": "markdown",
   "id": "06021651-109b-47ec-8c72-085fd4a8a164",
   "metadata": {
    "deletable": false,
    "editable": false,
    "tags": []
   },
   "source": [
    "### **[Step3] 데이터 탐색**\n",
    "\n",
    "데이터의 통계값을 파악하고 시각화해서 데이터가 어떤 분포를 가지고 있는지 파악해봅시다."
   ]
  },
  {
   "cell_type": "markdown",
   "id": "ce19e139-6e9b-4c41-a9bd-4b21474d0604",
   "metadata": {
    "deletable": false,
    "editable": false,
    "tags": []
   },
   "source": [
    "데이터의 통계값을 파악해봅시다 "
   ]
  },
  {
   "cell_type": "code",
   "execution_count": null,
   "id": "7266bb55-701d-4f44-b313-625aae6e7f2b",
   "metadata": {
    "error_code": "# 데이터셋의 통계값을 파악합니다.\n\ndf.describe()",
    "tags": []
   },
   "outputs": [],
   "source": [
    "# 데이터셋의 통계값을 파악합니다.\n",
    "data.describe()"
   ]
  },
  {
   "cell_type": "markdown",
   "id": "7d09a053-e06d-42da-8c28-e34223533cb6",
   "metadata": {
    "deletable": false,
    "editable": false
   },
   "source": [
    "데이터를 시각화하여 분석합니다."
   ]
  },
  {
   "cell_type": "code",
   "execution_count": null,
   "id": "4c111f9b-17f7-46b1-84fa-29cd63411575",
   "metadata": {
    "error_code": "import matplotlib.pyplot as plt\nimport numpy as np\n\ncount, division = np.histogram(data['평균기온'], bins = [-15,-10,-5,0,5,10,15,20,25,30,35])\nplt.hist(data['평균기온'], bins = division)\nplt.xticks([-12.5,-7.5,-2.5,2.5,7.5,12.5,17.5,22.5,27.5,32.5],\n           [\"-15 ~ -10\", \"-10 ~ -5\", \"-5 ~ 0\", \"0 ~ 5\", \"5 ~ 10\", \"15 ~ 20\", \"20 ~ 25\", \"25 ~ 30\", \"30 ~ 35\"])\nplt.xlabel(\"기온 단계\")\nplt.ylabel(\"일자 수\")\nplt.show()",
    "tags": []
   },
   "outputs": [],
   "source": [
    "# 기온 분포 히스토그램 그리기\n",
    "\n",
    "import matplotlib.pyplot as plt\n",
    "import numpy as np\n",
    "\n",
    "count, division = np.histogram(data['평균기온'], bins = [-15,-10,-5,0,5,10,15,20,25,30,35])\n",
    "plt.hist(data['평균기온'], bins = division)\n",
    "plt.xticks([-12.5, -7.5, -2.5, 2.5, 7.5, 12.5, 17.5, 22.5, 27.5, 32.5],\n",
    "           [\"-15 ~ -10\", \"-10 ~ -5\", \"-5 ~ 0\", \"0 ~ 5\", \"5 ~ 10\", \"10 ~ 15\", \"15 ~ 20\", \"20 ~ 25\", \"25 ~ 30\", \"30 ~ 35\"],\n",
    "          rotation = 90)\n",
    "plt.xlabel(\"기온\")\n",
    "plt.ylabel(\"일자 수\")\n",
    "plt.show()"
   ]
  },
  {
   "cell_type": "code",
   "execution_count": null,
   "id": "6dd2ac03-45a7-4318-a0fb-08fea659107f",
   "metadata": {
    "error_code": "import matplotlib.pyplot as plt\n\nplt.figure(figsize=(12,6))\nplt.xlabel('평균 기온') # x축 제목 이름 정하기\nplt.ylabel('아이스크림 검색량') # y축 제목 이름 정하기\nplt.scatter(data['평균기온'], data['아이스크림검색량']) # 막대그래프 그리기\nplt.show( )",
    "tags": []
   },
   "outputs": [],
   "source": [
    "# 아이스크림 검색량과 평균기온으로 산점도 그리기\n",
    "\n",
    "import matplotlib.pyplot as plt\n",
    "\n",
    "plt.figure(figsize=(12,6))\n",
    "plt.xlabel('평균기온') # x축 제목 이름 정하기\n",
    "plt.ylabel('아이스크림 검색량') # y축 제목 이름 정하기\n",
    "plt.scatter(data['평균기온'], data['아이스크림']) # 막대그래프 그리기\n",
    "plt.show( )"
   ]
  },
  {
   "cell_type": "markdown",
   "id": "c254ae82-96d1-4ffc-8192-4b144ccc6ebe",
   "metadata": {
    "deletable": false,
    "editable": false,
    "tags": []
   },
   "source": [
    "산점도 그래프를 보니 평균기온과 아이스크림 검색량 사이에는 양의 상관관계가 있는 것으로 보입니다."
   ]
  },
  {
   "cell_type": "markdown",
   "id": "adf7ffad-dff2-4452-8b12-2b96c6b682c9",
   "metadata": {
    "deletable": false,
    "editable": false,
    "tags": []
   },
   "source": [
    "### **[Step4] 인공지능 모델 학습**\n",
    "\n",
    "평균기온과 아이스크림 검색량이 양의 상관관계를 보이는 것으로 보이므로 선형회귀 알고리즘을 사용할 수 있을 것 같습니다.<br>\n",
    "알고리즘에 대한 자세한 내용은 뒤에서 배웁니다.(6 단원)"
   ]
  },
  {
   "cell_type": "markdown",
   "id": "486cf93e-938f-4f26-818c-c306c981ebe7",
   "metadata": {
    "deletable": false,
    "editable": false,
    "tags": []
   },
   "source": [
    "선형회귀는 데이터를 가장 잘 표현할 수 있는 1차 함수를 찾는 것입니다.<br>\n",
    "이를 위해 1차 함수의 기울기와 절편을 찾습니다.<br>"
   ]
  },
  {
   "cell_type": "code",
   "execution_count": null,
   "id": "6489ff9f-2183-4793-b5cd-d94354e104d1",
   "metadata": {
    "error_code": "# 데이터를 가장 잘 표현하는 1차 함수 찾기\n\nimport numpy as np\nX = np.array(df['평균기온'])\nY = np.array(df['아이스크림검색량'])\n\nmean_x = np.mean(X)\nmean_y = np.mean(Y)\n\nn = len(X)\n\ntemp1 = 0\ntemp2 = 0\nfor i in range(n):\n    temp1 += (X[i] - mean_x)*(Y[i]-mean_y)\n    temp2 += (X[i] - mean_x) ** 2\nbeta1 = temp1 / temp2\nbeta0 = mean_y - (beta1*mean_x)\n\nprint('기울기(beta1): {0}, 절편(beta0): {1}'.format(beta1, beta0))",
    "tags": []
   },
   "outputs": [],
   "source": [
    "# 데이터를 가장 잘 표현하는 1차 함수 찾기\n",
    "\n",
    "import numpy as np\n",
    "X = np.array(data['평균기온'])\n",
    "Y = np.array(data['아이스크림'])\n",
    "\n",
    "mean_x = np.mean(X)\n",
    "mean_y = np.mean(Y)\n",
    "\n",
    "n = len(X)\n",
    "\n",
    "temp1 = 0\n",
    "temp2 = 0\n",
    "for i in range(n):\n",
    "    temp1 += (X[i] - mean_x)*(Y[i]-mean_y)\n",
    "    temp2 += (X[i] - mean_x) ** 2\n",
    "beta1 = temp1 / temp2\n",
    "beta0 = mean_y - (beta1*mean_x)\n",
    "\n",
    "print('기울기(beta1): {0}, 절편(beta0): {1}'.format(beta1, beta0))"
   ]
  },
  {
   "cell_type": "markdown",
   "id": "6d28c314-dd08-4dec-bbaf-5f66876cd9b4",
   "metadata": {
    "deletable": false,
    "editable": false,
    "tags": []
   },
   "source": [
    "### **[Step5] 모델 평가**\n",
    "\n",
    "인공지능을 학습시킨 뒤에는 인공지능이 잘 학습했는지 평가해야 합니다."
   ]
  },
  {
   "cell_type": "markdown",
   "id": "524069ac-ce50-477f-aac4-2f52de6bc8d2",
   "metadata": {
    "deletable": false,
    "editable": false
   },
   "source": [
    "먼저 데이터를 시각화하여 정성적으로 평가해봅시다."
   ]
  },
  {
   "cell_type": "code",
   "execution_count": null,
   "id": "049a5bf2-1a2e-411e-946a-ebf3a94be887",
   "metadata": {
    "error_code": "# 학습 결과 시각화하기\nimport matplotlib.pyplot as plt\nY_pred = beta0 + beta1 * X\n\nplt.title('평균 기온 & 아이스크림 검색량')\nplt.xlabel('평균 기온(C)')\nplt.ylabel('아이스크림 검색량')\nplt.scatter(X, Y, color = 'k', s = 10)\nplt.plot(X,Y_pred, color = 'red')\nplt.grid( )\nplt.show( )"
   },
   "outputs": [],
   "source": [
    "# 학습 결과 시각화하기\n",
    "import matplotlib.pyplot as plt\n",
    "Y_pred = beta0 + beta1 * X\n",
    "\n",
    "plt.title('평균 기온 & 아이스크림 검색량')\n",
    "plt.xlabel('평균기온')\n",
    "plt.ylabel('아이스크림 검색량')\n",
    "plt.scatter(X, Y, color = 'k', s = 10)\n",
    "plt.plot(X,Y_pred, color = 'red')\n",
    "plt.grid( )\n",
    "plt.show( )"
   ]
  },
  {
   "cell_type": "markdown",
   "id": "4f391e82-ad85-4e79-81fc-ce68f07aa515",
   "metadata": {
    "deletable": false,
    "editable": false,
    "tags": []
   },
   "source": [
    "이번에는 손실값(loss)를 계산하여 정량적으로 평가합니다.<br>\n",
    "손실값에 대한 설명은 뒤에서 배웁니다. (14 단원)<br>\n",
    "\n",
    "손실값은 낮을 수록 데이터를 더 잘 표현한 것입니다.\n"
   ]
  },
  {
   "cell_type": "code",
   "execution_count": null,
   "id": "a141c97d-0408-4b98-8b54-a8ea41f2ec70",
   "metadata": {
    "error_code": "def RMSE(beta0, beta1, x, y) :\n    RMSE = np.sqrt(((y - (beta0 + beta1 * x)) ** 2).mean( ))\n    return RMSE\n\nresults = RMSE(beta0, beta1, X, Y)\nprint('손실값 결과는? {0}'.format(results))"
   },
   "outputs": [],
   "source": [
    "def RMSE(beta0, beta1, x, y) :\n",
    "    RMSE = np.sqrt(((y - (beta0 + beta1 * x)) ** 2).mean( ))\n",
    "    return RMSE\n",
    "\n",
    "results = RMSE(beta0, beta1, X, Y)\n",
    "print('손실값 결과는? {0}'.format(results))"
   ]
  },
  {
   "cell_type": "markdown",
   "id": "0225db6f-c5f5-43d8-95f4-9719829984a0",
   "metadata": {
    "deletable": false,
    "editable": false,
    "tags": []
   },
   "source": [
    "### **[Step6] 반복**\n",
    "\n",
    "인공지능을 학습시키고 난 다음에는 앞의 1-4의 과정들을 반복하여 더욱 좋은 성능의 인공지능을 학습시킵니다.<br>\n",
    "다른 데이터를 수집할 수도 있고 다른 인공지능 알고리즘을 사용할 수도 있습니다.<br>"
   ]
  }
 ],
 "metadata": {
  "kernelspec": {
   "display_name": "Python 3 (ipykernel)",
   "language": "python",
   "name": "python3"
  },
  "language_info": {
   "codemirror_mode": {
    "name": "ipython",
    "version": 3
   },
   "file_extension": ".py",
   "mimetype": "text/x-python",
   "name": "python",
   "nbconvert_exporter": "python",
   "pygments_lexer": "ipython3",
   "version": "3.11.3"
  },
  "read_only": true
 },
 "nbformat": 4,
 "nbformat_minor": 5
}
